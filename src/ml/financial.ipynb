{
 "cells": [
  {
   "cell_type": "markdown",
   "metadata": {},
   "source": [
    "# Machine Learning Capstone project\n",
    "## Project: Predicting Stock Prices\n",
    "## Project Overview\n",
    "## Problem Statement\n",
    "## Metrics"
   ]
  },
  {
   "cell_type": "markdown",
   "metadata": {},
   "source": [
    "# Analysis\n",
    "##"
   ]
  },
  {
   "cell_type": "markdown",
   "metadata": {},
   "source": [
    "## Data Exploration"
   ]
  },
  {
   "cell_type": "markdown",
   "metadata": {},
   "source": [
    "For stock price prediction finance data was downloaded from Yahoo finance https://finance.yahoo.com/quote/CSV/history?p=CSV. "
   ]
  },
  {
   "cell_type": "code",
   "execution_count": 99,
   "metadata": {},
   "outputs": [
    {
     "name": "stdout",
     "output_type": "stream",
     "text": [
      "53\n",
      "         Date         Open         High          Low        Close  \\\n",
      "0  2017-11-10  2580.179932  2583.810059  2575.570068  2582.300049   \n",
      "1  2017-11-13  2576.530029  2587.659912  2574.479980  2584.840088   \n",
      "2  2017-11-14  2577.750000  2579.659912  2566.560059  2578.870117   \n",
      "3  2017-11-15  2569.449951  2572.840088  2557.449951  2564.620117   \n",
      "4  2017-11-16  2572.949951  2590.090088  2572.949951  2585.639893   \n",
      "\n",
      "     Adj Close      Volume  \n",
      "0  2582.300049  3486910000  \n",
      "1  2584.840088  3402930000  \n",
      "2  2578.870117  3641760000  \n",
      "3  2564.620117  3558890000  \n",
      "4  2585.639893  3312710000  \n",
      "\n",
      "\n",
      "\n",
      "\n",
      "Financial dataset has 53 data points with 7 variables each.\n"
     ]
    }
   ],
   "source": [
    "import numpy as np\n",
    "import pandas as pd\n",
    "import matplotlib.pylab as plt\n",
    "from datetime import datetime\n",
    "\n",
    "# Import cross validation\n",
    "\n",
    "# Import supplementary visualizations code visuals.py\n",
    "import visuals as vs\n",
    "\n",
    "# Pretty display for notebooks\n",
    "%matplotlib inline\n",
    "\n",
    "# Load prices dataset\n",
    "data = pd.read_csv(\"financial_data.csv\")\n",
    "data_validation = pd.read_csv(\"financial_data_check.csv\")\n",
    "\n",
    "featuresMy = []\n",
    "\n",
    "ds_length = data.shape[0]\n",
    "print ds_length\n",
    "X_forecast = []\n",
    "X_forecast.append([ds_length - 5])\n",
    "X_forecast.append([ds_length - 4])\n",
    "X_forecast.append([ds_length - 3])\n",
    "X_forecast.append([ds_length - 2])\n",
    "X_forecast.append([ds_length - 1])\n",
    "\n",
    "print data.head()\n",
    "print '\\n'\n",
    "\n",
    "for index in range(len(data)):\n",
    "    featuresMy.append([index])\n",
    "\n",
    "print '\\n'\n",
    "\n",
    "prices = data['Adj Close']\n",
    "prices_real = data_validation['Adj Close']\n",
    "# features = data.drop('Adj Close', axis = 1)\n",
    "\n",
    "# Success\n",
    "print \"Financial dataset has {} data points with {} variables each.\".format(*data.shape)"
   ]
  },
  {
   "cell_type": "markdown",
   "metadata": {},
   "source": [
    "## Exploratory Visualization"
   ]
  },
  {
   "cell_type": "markdown",
   "metadata": {},
   "source": [
    "## Algorithms and Techniques"
   ]
  },
  {
   "cell_type": "markdown",
   "metadata": {},
   "source": [
    "## Benchmark"
   ]
  },
  {
   "cell_type": "markdown",
   "metadata": {},
   "source": [
    "# Methodology\n",
    "## "
   ]
  },
  {
   "cell_type": "markdown",
   "metadata": {},
   "source": [
    "## Data Preprocessing"
   ]
  },
  {
   "cell_type": "markdown",
   "metadata": {},
   "source": [
    "## Implementation"
   ]
  },
  {
   "cell_type": "markdown",
   "metadata": {},
   "source": [
    "## Refinement"
   ]
  },
  {
   "cell_type": "markdown",
   "metadata": {},
   "source": [
    "# Results\n",
    "## "
   ]
  },
  {
   "cell_type": "markdown",
   "metadata": {},
   "source": [
    "## Model Evaluation and Validation"
   ]
  },
  {
   "cell_type": "markdown",
   "metadata": {},
   "source": [
    "## Justification"
   ]
  },
  {
   "cell_type": "markdown",
   "metadata": {},
   "source": [
    "## Getting Started\n",
    "In this project, you will evaluate the performance and predictive power of a model that has been trained and tested on data collected from homes in suburbs of Boston, Massachusetts. A model trained on this data that is seen as a *good fit* could then be used to make certain predictions about a home — in particular, its monetary value. This model would prove to be invaluable for someone like a real estate agent who could make use of such information on a daily basis."
   ]
  },
  {
   "cell_type": "code",
   "execution_count": 101,
   "metadata": {},
   "outputs": [
    {
     "name": "stdout",
     "output_type": "stream",
     "text": [
      "         Date         Open         High          Low        Close  \\\n",
      "0  2017-11-10  2580.179932  2583.810059  2575.570068  2582.300049   \n",
      "1  2017-11-13  2576.530029  2587.659912  2574.479980  2584.840088   \n",
      "2  2017-11-14  2577.750000  2579.659912  2566.560059  2578.870117   \n",
      "3  2017-11-15  2569.449951  2572.840088  2557.449951  2564.620117   \n",
      "4  2017-11-16  2572.949951  2590.090088  2572.949951  2585.639893   \n",
      "\n",
      "     Adj Close      Volume  \n",
      "0  2582.300049  3486910000  \n",
      "1  2584.840088  3402930000  \n",
      "2  2578.870117  3641760000  \n",
      "3  2564.620117  3558890000  \n",
      "4  2585.639893  3312710000  \n",
      "\n",
      "\n",
      "Financial dataset has 53 data points with 7 variables each.\n"
     ]
    },
    {
     "data": {
      "image/png": "[encoded data removed]",
      "text/plain": [
       "<matplotlib.figure.Figure at 0x1a139d6090>"
      ]
     },
     "metadata": {},
     "output_type": "display_data"
    }
   ],
   "source": [
    "import numpy as np\n",
    "import pandas as pd\n",
    "import matplotlib.pylab as plt\n",
    "\n",
    "# Import cross validation\n",
    "from sklearn.cross_validation import ShuffleSplit\n",
    "\n",
    "# Import supplementary visualizations code visuals.py\n",
    "import visuals as vs\n",
    "\n",
    "# Pretty display for notebooks\n",
    "%matplotlib inline\n",
    "\n",
    "# Load the Boston housing dataset\n",
    "data = pd.read_csv(\"financial_data.csv\")\n",
    "\n",
    "print data.head()\n",
    "print '\\n'\n",
    "\n",
    "prices = data['Adj Close']\n",
    "# features = data.drop('Adj Close', axis = 1)\n",
    "\n",
    "plt.plot(prices)\n",
    "    \n",
    "# Success\n",
    "print \"Financial dataset has {} data points with {} variables each.\".format(*data.shape)"
   ]
  },
  {
   "cell_type": "code",
   "execution_count": 123,
   "metadata": {},
   "outputs": [
    {
     "name": "stdout",
     "output_type": "stream",
     "text": [
      "Statistics for Boston housing dataset:\n",
      "\n",
      "Minimum price: $2,564.62\n",
      "Maximum price: $2,872.87\n",
      "Mean price: $2,690.27\n",
      "Median price $2,679.25\n",
      "Standard deviation of prices: $83.83\n"
     ]
    }
   ],
   "source": [
    "minimum_price = np.min(prices)\n",
    "maximum_price = np.max(prices)\n",
    "mean_price = np.mean(prices)\n",
    "median_price = np.median(prices)\n",
    "std_price = np.std(prices)\n",
    "\n",
    "# Show the calculated statistics\n",
    "print \"Statistics for Boston housing dataset:\\n\"\n",
    "print \"Minimum price: ${:,.2f}\".format(minimum_price)\n",
    "print \"Maximum price: ${:,.2f}\".format(maximum_price)\n",
    "print \"Mean price: ${:,.2f}\".format(mean_price)\n",
    "print \"Median price ${:,.2f}\".format(median_price)\n",
    "print \"Standard deviation of prices: ${:,.2f}\".format(std_price)"
   ]
  },
  {
   "cell_type": "markdown",
   "metadata": {},
   "source": [
    "----\n",
    "\n",
    "## Developing a Model\n",
    "In this second section of the project, you will develop the tools and techniques necessary for a model to make a prediction. Being able to make accurate evaluations of each model's performance through the use of these tools and techniques helps to greatly reinforce the confidence in your predictions."
   ]
  },
  {
   "cell_type": "code",
   "execution_count": 105,
   "metadata": {
    "collapsed": true
   },
   "outputs": [],
   "source": [
    "def test_stationarity(data):\n",
    "    \n",
    "    #Determing rolling statistics\n",
    "    rolmean = data.rolling(window=20,center=False).mean()\n",
    "    rolmean = data\n",
    "\n",
    "    #Plot rolling statistics:\n",
    "    orig = plt.plot(data, color='blue',label='Original line')\n",
    "    mean = plt.plot(rolmean, color='red', label='With rolling mean')\n",
    "\n",
    "    plt.title('Rolling Mean')"
   ]
  },
  {
   "cell_type": "code",
   "execution_count": 106,
   "metadata": {},
   "outputs": [
    {
     "data": {
      "image/png": "[encoded data removed]",
      "text/plain": [
       "<matplotlib.figure.Figure at 0x1a132a3bd0>"
      ]
     },
     "metadata": {},
     "output_type": "display_data"
    }
   ],
   "source": [
    "test_stationarity(prices)"
   ]
  },
  {
   "cell_type": "code",
   "execution_count": 107,
   "metadata": {},
   "outputs": [
    {
     "data": {
      "text/plain": [
       "[<matplotlib.lines.Line2D at 0x1a13a43850>]"
      ]
     },
     "execution_count": 107,
     "metadata": {},
     "output_type": "execute_result"
    },
    {
     "data": {
      "image/png": "[encoded data removed]",
      "text/plain": [
       "<matplotlib.figure.Figure at 0x1a13bdac50>"
      ]
     },
     "metadata": {},
     "output_type": "display_data"
    }
   ],
   "source": [
    "#ts_log = np.log(prices)\n",
    "ts_log = prices\n",
    "plt.plot(ts_log)"
   ]
  },
  {
   "cell_type": "code",
   "execution_count": 109,
   "metadata": {},
   "outputs": [
    {
     "data": {
      "text/plain": [
       "[<matplotlib.lines.Line2D at 0x1a13310fd0>]"
      ]
     },
     "execution_count": 109,
     "metadata": {},
     "output_type": "execute_result"
    },
    {
     "data": {
      "image/png": "[encoded data removed]",
      "text/plain": [
       "<matplotlib.figure.Figure at 0x1a13b00850>"
      ]
     },
     "metadata": {},
     "output_type": "display_data"
    }
   ],
   "source": [
    "moving_avg = ts_log.rolling(min_periods=1,window=10,center=False).mean()\n",
    "moving_avg = ts_log\n",
    "plt.plot(ts_log)\n",
    "plt.plot(moving_avg, color='red')"
   ]
  },
  {
   "cell_type": "markdown",
   "metadata": {},
   "source": [
    "### Implementation: Define a Performance Metric\n",
    "It is difficult to measure the quality of a given model without quantifying its performance over training and testing. This is typically done using some type of performance metric, whether it is through calculating some type of error, the goodness of fit, or some other useful measurement. For this project, you will be calculating the [*coefficient of determination*](http://stattrek.com/statistics/dictionary.aspx?definition=coefficient_of_determination), R<sup>2</sup>, to quantify your model's performance. The coefficient of determination for a model is a useful statistic in regression analysis, as it often describes how \"good\" that model is at making predictions. \n",
    "\n",
    "The values for R<sup>2</sup> range from 0 to 1, which captures the percentage of squared correlation between the predicted and actual values of the **target variable**. A model with an R<sup>2</sup> of 0 is no better than a model that always predicts the *mean* of the target variable, whereas a model with an R<sup>2</sup> of 1 perfectly predicts the target variable. Any value between 0 and 1 indicates what percentage of the target variable, using this model, can be explained by the **features**. _A model can be given a negative R<sup>2</sup> as well, which indicates that the model is **arbitrarily worse** than one that always predicts the mean of the target variable._\n",
    "\n",
    "For the `performance_metric` function in the code cell below, you will need to implement the following:\n",
    "- Use `r2_score` from `sklearn.metrics` to perform a performance calculation between `y_true` and `y_predict`.\n",
    "- Assign the performance score to the `score` variable."
   ]
  },
  {
   "cell_type": "code",
   "execution_count": 110,
   "metadata": {
    "collapsed": true
   },
   "outputs": [],
   "source": [
    "from sklearn.metrics import r2_score\n",
    "\n",
    "def performance_metric(y_true, y_predict):\n",
    "    \"\"\" Calculates and returns the performance score between \n",
    "        true and predicted values based on the metric chosen. \"\"\"\n",
    "    \n",
    "    score = r2_score(y_true, y_predict)\n",
    "    \n",
    "    # Return the score\n",
    "    return score"
   ]
  },
  {
   "cell_type": "markdown",
   "metadata": {},
   "source": [
    "### Implementation: Shuffle and Split Data\n",
    "Your next implementation requires that you take the Boston housing dataset and split the data into training and testing subsets. Typically, the data is also shuffled into a random order when creating the training and testing subsets to remove any bias in the ordering of the dataset.\n",
    "\n",
    "For the code cell below, you will need to implement the following:\n",
    "- Use `train_test_split` from `sklearn.cross_validation` to shuffle and split the `features` and `prices` data into training and testing sets.\n",
    "  - Split the data into 80% training and 20% testing.\n",
    "  - Set the `random_state` for `train_test_split` to a value of your choice. This ensures results are consistent.\n",
    "- Assign the train and testing splits to `X_train`, `X_test`, `y_train`, and `y_test`."
   ]
  },
  {
   "cell_type": "code",
   "execution_count": 111,
   "metadata": {},
   "outputs": [
    {
     "name": "stdout",
     "output_type": "stream",
     "text": [
      "Training and testing split was successful.\n"
     ]
    }
   ],
   "source": [
    "from sklearn import cross_validation\n",
    "\n",
    "X_train, X_test, y_train, y_test = cross_validation.train_test_split(featuresMy, prices, test_size=0.2, train_size=0.8, random_state=3)\n",
    "\n",
    "# Success\n",
    "print \"Training and testing split was successful.\""
   ]
  },
  {
   "cell_type": "markdown",
   "metadata": {},
   "source": [
    "### Implementation: Fitting a Model"
   ]
  },
  {
   "cell_type": "code",
   "execution_count": 112,
   "metadata": {
    "collapsed": true
   },
   "outputs": [],
   "source": [
    "def test_results(historiacal, forecasted):\n",
    "    \n",
    "    #Plot rolling statistics\n",
    "    plt.plot(historiacal, color='red', label='With rolling mean')\n",
    "    plt.plot(forecasted, color='blue', label='With rolling mean')\n",
    "    plt.title('Test results')\n",
    "    plt.show()"
   ]
  },
  {
   "cell_type": "code",
   "execution_count": 117,
   "metadata": {},
   "outputs": [
    {
     "name": "stdout",
     "output_type": "stream",
     "text": [
      "{'warm_start': False, 'oob_score': False, 'n_jobs': 1, 'min_impurity_decrease': 0.0, 'verbose': 0, 'max_leaf_nodes': None, 'bootstrap': True, 'min_samples_leaf': 1, 'n_estimators': 10, 'min_samples_split': 2, 'min_weight_fraction_leaf': 0.0, 'criterion': 'mse', 'random_state': 0, 'min_impurity_split': None, 'max_features': 'auto', 'max_depth': None}\n",
      "RandomForest test data score:  0.985628179307\n"
     ]
    }
   ],
   "source": [
    "from sklearn.ensemble import RandomForestRegressor\n",
    "regr = RandomForestRegressor(random_state=0)\n",
    "regr.fit(X_train, y_train)\n",
    "print regr.get_params()\n",
    "print 'RandomForest test data score: ', regr.score(X_test, y_test)"
   ]
  },
  {
   "cell_type": "code",
   "execution_count": 118,
   "metadata": {},
   "outputs": [
    {
     "name": "stdout",
     "output_type": "stream",
     "text": [
      "[ 2828.8929934  2831.1780274  2835.290039   2843.285034   2843.285034 ]\n"
     ]
    },
    {
     "data": {
      "image/png": "[encoded data removed]",
      "text/plain": [
       "<matplotlib.figure.Figure at 0x1a13aeec90>"
      ]
     },
     "metadata": {},
     "output_type": "display_data"
    }
   ],
   "source": [
    "# Trying to predict new valies\n",
    "Y_predict = regr.predict(X_forecast)\n",
    "print Y_predict\n",
    "test_results(prices_real, Y_predict)"
   ]
  },
  {
   "cell_type": "code",
   "execution_count": 119,
   "metadata": {},
   "outputs": [
    {
     "name": "stdout",
     "output_type": "stream",
     "text": [
      "{'copy_X': False, 'normalize': False, 'n_jobs': 10, 'fit_intercept': True}\n",
      "LinearRegression test data score:  0.926393843842\n"
     ]
    }
   ],
   "source": [
    "from sklearn.linear_model import LinearRegression\n",
    "regr = LinearRegression(n_jobs=10,copy_X=False)\n",
    "regr.fit(X_train, y_train)\n",
    "print regr.get_params()\n",
    "print 'LinearRegression test data score: ', regr.score(X_test, y_test)"
   ]
  },
  {
   "cell_type": "code",
   "execution_count": 120,
   "metadata": {},
   "outputs": [
    {
     "name": "stdout",
     "output_type": "stream",
     "text": [
      "[ 2800.07334764  2805.17534096  2810.27733427  2815.37932758  2820.48132089]\n"
     ]
    },
    {
     "data": {
      "image/png": "[encoded data removed]",
      "text/plain": [
       "<matplotlib.figure.Figure at 0x1049309d0>"
      ]
     },
     "metadata": {},
     "output_type": "display_data"
    }
   ],
   "source": [
    "# Trying to predict new valies\n",
    "Y_predict = regr.predict(X_forecast)\n",
    "print Y_predict\n",
    "test_results(prices_real, Y_predict)"
   ]
  },
  {
   "cell_type": "code",
   "execution_count": 121,
   "metadata": {},
   "outputs": [
    {
     "name": "stdout",
     "output_type": "stream",
     "text": [
      "{'n_neighbors': 2, 'n_jobs': 1, 'algorithm': 'auto', 'metric': 'minkowski', 'metric_params': None, 'p': 2, 'weights': 'uniform', 'leaf_size': 30}\n",
      "KNeighborsClassifier test data score:  0.987602376408\n"
     ]
    }
   ],
   "source": [
    "from sklearn.neighbors import KNeighborsRegressor\n",
    "regr = KNeighborsRegressor(n_neighbors=2)\n",
    "regr.fit(X_train, y_train)\n",
    "print regr.get_params()\n",
    "print 'KNeighborsClassifier test data score: ', regr.score(X_test, y_test)"
   ]
  },
  {
   "cell_type": "code",
   "execution_count": 122,
   "metadata": {},
   "outputs": [
    {
     "name": "stdout",
     "output_type": "stream",
     "text": [
      "[ 2835.255005  2835.255005  2845.535034  2845.535034  2845.535034]\n"
     ]
    },
    {
     "data": {
      "image/png": "[encoded data removed]",
      "text/plain": [
       "<matplotlib.figure.Figure at 0x10a8ac590>"
      ]
     },
     "metadata": {},
     "output_type": "display_data"
    }
   ],
   "source": [
    "# Trying to predict new valies\n",
    "Y_predict = regr.predict(X_forecast)\n",
    "print Y_predict\n",
    "test_results(prices_real, Y_predict)"
   ]
  },
  {
   "cell_type": "code",
   "execution_count": null,
   "metadata": {
    "collapsed": true
   },
   "outputs": [],
   "source": [
    ""
   ]
  }
 ],
 "metadata": {
  "anaconda-cloud": {},
  "kernelspec": {
   "display_name": "Python 2",
   "language": "python",
   "name": "python2"
  },
  "language_info": {
   "codemirror_mode": {
    "name": "ipython",
    "version": 2
   },
   "file_extension": ".py",
   "mimetype": "text/x-python",
   "name": "python",
   "nbconvert_exporter": "python",
   "pygments_lexer": "ipython2",
   "version": "2.7.13"
  }
 },
 "nbformat": 4,
 "nbformat_minor": 0
}
